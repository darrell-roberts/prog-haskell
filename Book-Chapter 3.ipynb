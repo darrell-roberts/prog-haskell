{
 "cells": [
  {
   "cell_type": "markdown",
   "metadata": {},
   "source": [
    "What are the types of the following values?\n",
    "\n",
    "```\n",
    "['a','b','c']\n",
    "('a','b','c')\n",
    "[(False,'0'),(True,'1')]\n",
    "([False,True],['0','1'])\n",
    "[tail, init, reverse]\n",
    "```"
   ]
  },
  {
   "cell_type": "markdown",
   "metadata": {},
   "source": [
    "- List of Char\n",
    "- Type of Char\n",
    "- List of Tuple of Boolean, Char.\n",
    "- Tuple of Boolean List, Char List.\n",
    "- List of functions"
   ]
  },
  {
   "cell_type": "markdown",
   "metadata": {},
   "source": [
    "Write down definitions that have the following types; it does not what the definitions actually do as long as they are type correct.\n",
    "\n",
    "```\n",
    "bools :: [Bool]\n",
    "nums :: [[Int]]\n",
    "add :: Int -> Int -> Int -> Int\n",
    "copy :: a -> (a, a)\n",
    "```"
   ]
  },
  {
   "cell_type": "code",
   "execution_count": 6,
   "metadata": {},
   "outputs": [
    {
     "data": {
      "text/plain": [
       "[True,False,True]"
      ]
     },
     "metadata": {},
     "output_type": "display_data"
    },
    {
     "data": {
      "text/plain": [
       "[[1],[2],[3]]"
      ]
     },
     "metadata": {},
     "output_type": "display_data"
    },
    {
     "data": {
      "text/plain": [
       "3"
      ]
     },
     "metadata": {},
     "output_type": "display_data"
    },
    {
     "data": {
      "text/plain": [
       "('c','c')"
      ]
     },
     "metadata": {},
     "output_type": "display_data"
    }
   ],
   "source": [
    "bools = [True, False, True]\n",
    "bools\n",
    "\n",
    "nums = [[1], [2], [3]]\n",
    "nums\n",
    "\n",
    "add a b c = a + b + c\n",
    "add 1 1 1\n",
    "\n",
    "copy a = (a, a)\n",
    "copy 'c'"
   ]
  },
  {
   "cell_type": "code",
   "execution_count": null,
   "metadata": {},
   "outputs": [],
   "source": []
  }
 ],
 "metadata": {
  "kernelspec": {
   "display_name": "Haskell",
   "language": "haskell",
   "name": "haskell"
  },
  "language_info": {
   "codemirror_mode": "ihaskell",
   "file_extension": ".hs",
   "name": "haskell",
   "pygments_lexer": "Haskell",
   "version": "8.6.4"
  }
 },
 "nbformat": 4,
 "nbformat_minor": 2
}
