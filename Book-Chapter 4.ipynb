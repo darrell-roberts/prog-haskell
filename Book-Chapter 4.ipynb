{
 "cells": [
  {
   "cell_type": "markdown",
   "metadata": {},
   "source": [
    "Using library functions, define a function ```halve : :[a] -> ([a], [a])``` that splits an even-lengthed list into two halves. For example:\n",
    "\n",
    "```\n",
    "halve [1,2,3,4,5,6]\n",
    "([1,2,3], [4,5,6])\n",
    "```"
   ]
  },
  {
   "cell_type": "code",
   "execution_count": 17,
   "metadata": {},
   "outputs": [
    {
     "data": {
      "text/plain": [
       "([1,2,3],[4,5,6])"
      ]
     },
     "metadata": {},
     "output_type": "display_data"
    }
   ],
   "source": [
    "halve xs = (take s xs, drop s xs)\n",
    "  where s = length xs `div` 2\n",
    "\n",
    "halve [1,2,3,4,5,6]"
   ]
  },
  {
   "cell_type": "markdown",
   "metadata": {},
   "source": [
    "Defined a function ```third :: [a] -> a``` that returns the third element in a list that contains at least this many elements using:\n",
    "\n",
    "a. head and tail;\n",
    "\n",
    "b. list indexing !!;\n",
    "\n",
    "c. pattern matching."
   ]
  },
  {
   "cell_type": "code",
   "execution_count": 35,
   "metadata": {},
   "outputs": [
    {
     "data": {
      "text/plain": [
       "3"
      ]
     },
     "metadata": {},
     "output_type": "display_data"
    },
    {
     "data": {
      "text/plain": [
       "3"
      ]
     },
     "metadata": {},
     "output_type": "display_data"
    },
    {
     "data": {
      "text/plain": [
       "3"
      ]
     },
     "metadata": {},
     "output_type": "display_data"
    }
   ],
   "source": [
    "-- a. Head and tail\n",
    "third = head . tail . tail\n",
    "\n",
    "-- b. List indexing !! with gaurd\n",
    "third' xs | length xs < 3 = 0\n",
    "          | otherwise = xs !! 2\n",
    "\n",
    "-- c. Pattern matching\n",
    "third'' (_:_:xs) = head xs\n",
    "\n",
    "x = [1,2,3,4,5,6]\n",
    "\n",
    "third x\n",
    "third' x\n",
    "third'' x\n"
   ]
  },
  {
   "cell_type": "markdown",
   "metadata": {},
   "source": [
    "In a similar way to && in section 4.4 show how the disjunction operator || can be defined in four different ways using pattern matching."
   ]
  },
  {
   "cell_type": "code",
   "execution_count": 50,
   "metadata": {},
   "outputs": [
    {
     "ename": "",
     "evalue": "",
     "output_type": "error",
     "traceback": [
      "<interactive>:9:7: error:\n    • Variable not in scope: otherswise :: Bool\n    • Perhaps you meant ‘otherwise’ (imported from Prelude)\n<interactive>:6:13: error:\n    • Found hole: _ :: Bool\n    • In the second argument of ‘(||)’, namely ‘_’\n      In the expression: True || _\n      In a stmt of a pattern guard for\n                     an equation for ‘f''’:\n        True || _\n    • Relevant bindings include\n        b :: Bool (bound at <interactive>:4:7)\n        a :: p (bound at <interactive>:4:5)\n        f'' :: p -> Bool -> Bool (bound at <interactive>:4:1)\n      Valid hole fits include\n        it6 :: Bool (defined at <interactive>:1:5)\n        it9 :: Bool (defined at <interactive>:1:5)\n        it12 :: Bool (defined at <interactive>:1:5)\n        it14 :: Bool (defined at <interactive>:1:5)\n        it15 :: Bool (defined at <interactive>:1:5)\n        it47 :: Bool (defined at <interactive>:1:5)\n        (Some hole fits suppressed; use -fmax-valid-hole-fits=N or -fno-max-valid-hole-fits)\n<interactive>:3:5: error:\n    • Found hole: _ :: Bool\n    • In the first argument of ‘(||)’, namely ‘_’\n      In the expression: _ || _\n      In a stmt of a pattern guard for\n                     an equation for ‘f'’:\n        _ || _\n    • Relevant bindings include\n        b :: p1 (bound at <interactive>:1:6)\n        a :: p (bound at <interactive>:1:4)\n        f' :: p -> p1 -> Bool (bound at <interactive>:1:1)\n      Valid hole fits include\n        it6 :: Bool (defined at <interactive>:1:5)\n        it9 :: Bool (defined at <interactive>:1:5)\n        it12 :: Bool (defined at <interactive>:1:5)\n        it14 :: Bool (defined at <interactive>:1:5)\n        it15 :: Bool (defined at <interactive>:1:5)\n        it47 :: Bool (defined at <interactive>:1:5)\n        (Some hole fits suppressed; use -fmax-valid-hole-fits=N or -fno-max-valid-hole-fits)\n<interactive>:3:10: error:\n    • Found hole: _ :: Bool\n    • In the second argument of ‘(||)’, namely ‘_’\n      In the expression: _ || _\n      In a stmt of a pattern guard for\n                     an equation for ‘f'’:\n        _ || _\n    • Relevant bindings include\n        b :: p1 (bound at <interactive>:1:6)\n        a :: p (bound at <interactive>:1:4)\n        f' :: p -> p1 -> Bool (bound at <interactive>:1:1)\n      Valid hole fits include\n        it6 :: Bool (defined at <interactive>:1:5)\n        it9 :: Bool (defined at <interactive>:1:5)\n        it12 :: Bool (defined at <interactive>:1:5)\n        it14 :: Bool (defined at <interactive>:1:5)\n        it15 :: Bool (defined at <interactive>:1:5)\n        it47 :: Bool (defined at <interactive>:1:5)\n        (Some hole fits suppressed; use -fmax-valid-hole-fits=N or -fno-max-valid-hole-fits)"
     ]
    }
   ],
   "source": [
    "-- 1\n",
    "-- True || True = True\n",
    "-- False || True = True\n",
    "-- True || False = True\n",
    "-- False || False = False\n",
    "\n",
    "-- 2\n",
    "f' a b\n",
    "  | False || False = False\n",
    "  | _ || _ = True\n",
    "\n",
    "-- 3\n",
    "f'' a b\n",
    "  | False || b = False\n",
    "  | True || _ = True\n",
    "\n",
    "-- 4\n",
    "f''' a b\n",
    "    | a == b = a\n",
    "    | otherswise = True\n",
    "    \n",
    "f True False\n",
    "f False True\n",
    "f False False\n",
    "f True True\n",
    "\n"
   ]
  },
  {
   "cell_type": "markdown",
   "metadata": {},
   "source": [
    "Without using any other library functions or opertators, show how the meaning of the following pattern matching definition for logical conjuntion && can be formalised using conditional expressions:\n",
    "\n",
    "```\n",
    "True && True = True\n",
    "_ && _ = False\n",
    "```\n",
    "\n",
    "Hint: use two nested conditional expression"
   ]
  },
  {
   "cell_type": "code",
   "execution_count": 47,
   "metadata": {},
   "outputs": [
    {
     "data": {
      "text/html": [
       "<style>/* Styles used for the Hoogle display in the pager */\n",
       ".hoogle-doc {\n",
       "display: block;\n",
       "padding-bottom: 1.3em;\n",
       "padding-left: 0.4em;\n",
       "}\n",
       ".hoogle-code {\n",
       "display: block;\n",
       "font-family: monospace;\n",
       "white-space: pre;\n",
       "}\n",
       ".hoogle-text {\n",
       "display: block;\n",
       "}\n",
       ".hoogle-name {\n",
       "color: green;\n",
       "font-weight: bold;\n",
       "}\n",
       ".hoogle-head {\n",
       "font-weight: bold;\n",
       "}\n",
       ".hoogle-sub {\n",
       "display: block;\n",
       "margin-left: 0.4em;\n",
       "}\n",
       ".hoogle-package {\n",
       "font-weight: bold;\n",
       "font-style: italic;\n",
       "}\n",
       ".hoogle-module {\n",
       "font-weight: bold;\n",
       "}\n",
       ".hoogle-class {\n",
       "font-weight: bold;\n",
       "}\n",
       ".get-type {\n",
       "color: green;\n",
       "font-weight: bold;\n",
       "font-family: monospace;\n",
       "display: block;\n",
       "white-space: pre-wrap;\n",
       "}\n",
       ".show-type {\n",
       "color: green;\n",
       "font-weight: bold;\n",
       "font-family: monospace;\n",
       "margin-left: 1em;\n",
       "}\n",
       ".mono {\n",
       "font-family: monospace;\n",
       "display: block;\n",
       "}\n",
       ".err-msg {\n",
       "color: red;\n",
       "font-style: italic;\n",
       "font-family: monospace;\n",
       "white-space: pre;\n",
       "display: block;\n",
       "}\n",
       "#unshowable {\n",
       "color: red;\n",
       "font-weight: bold;\n",
       "}\n",
       ".err-msg.in.collapse {\n",
       "padding-top: 0.7em;\n",
       "}\n",
       ".highlight-code {\n",
       "white-space: pre;\n",
       "font-family: monospace;\n",
       "}\n",
       ".suggestion-warning { \n",
       "font-weight: bold;\n",
       "color: rgb(200, 130, 0);\n",
       "}\n",
       ".suggestion-error { \n",
       "font-weight: bold;\n",
       "color: red;\n",
       "}\n",
       ".suggestion-name {\n",
       "font-weight: bold;\n",
       "}\n",
       "</style><div class=\"suggestion-name\" style=\"clear:both;\">Redundant if</div><div class=\"suggestion-row\" style=\"float: left;\"><div class=\"suggestion-warning\">Found:</div><div class=\"highlight-code\" id=\"haskell\">if a && b then True else False</div></div><div class=\"suggestion-row\" style=\"float: left;\"><div class=\"suggestion-warning\">Why Not:</div><div class=\"highlight-code\" id=\"haskell\">a && b</div></div>"
      ],
      "text/plain": [
       "Line 1: Redundant if\n",
       "Found:\n",
       "if a && b then True else False\n",
       "Why not:\n",
       "a && b"
      ]
     },
     "metadata": {},
     "output_type": "display_data"
    },
    {
     "data": {
      "text/plain": [
       "True"
      ]
     },
     "metadata": {},
     "output_type": "display_data"
    },
    {
     "data": {
      "text/plain": [
       "False"
      ]
     },
     "metadata": {},
     "output_type": "display_data"
    }
   ],
   "source": [
    "f' a b = if a && b then True else False\n",
    "\n",
    "f' True True\n",
    "f' False True"
   ]
  },
  {
   "cell_type": "markdown",
   "metadata": {},
   "source": [
    "Do the same for the following alternative definition, and note the difference in the number of conditional expressions that are required:\n",
    "\n",
    "```\n",
    "True && b = b\n",
    "False && _ = False\n",
    "```"
   ]
  },
  {
   "cell_type": "code",
   "execution_count": null,
   "metadata": {},
   "outputs": [],
   "source": [
    "f a b = if a == True && b == True then True else False"
   ]
  },
  {
   "cell_type": "markdown",
   "metadata": {},
   "source": [
    "Show how the meaning of the following curried function definition can be formalised in terms of lambda expressions:\n",
    "\n",
    "```\n",
    "mult :: Int -> Int -> Int\n",
    "mult x y z = x * y * z\n",
    "```"
   ]
  },
  {
   "cell_type": "code",
   "execution_count": 10,
   "metadata": {},
   "outputs": [
    {
     "data": {
      "text/html": [
       "<style>/* Styles used for the Hoogle display in the pager */\n",
       ".hoogle-doc {\n",
       "display: block;\n",
       "padding-bottom: 1.3em;\n",
       "padding-left: 0.4em;\n",
       "}\n",
       ".hoogle-code {\n",
       "display: block;\n",
       "font-family: monospace;\n",
       "white-space: pre;\n",
       "}\n",
       ".hoogle-text {\n",
       "display: block;\n",
       "}\n",
       ".hoogle-name {\n",
       "color: green;\n",
       "font-weight: bold;\n",
       "}\n",
       ".hoogle-head {\n",
       "font-weight: bold;\n",
       "}\n",
       ".hoogle-sub {\n",
       "display: block;\n",
       "margin-left: 0.4em;\n",
       "}\n",
       ".hoogle-package {\n",
       "font-weight: bold;\n",
       "font-style: italic;\n",
       "}\n",
       ".hoogle-module {\n",
       "font-weight: bold;\n",
       "}\n",
       ".hoogle-class {\n",
       "font-weight: bold;\n",
       "}\n",
       ".get-type {\n",
       "color: green;\n",
       "font-weight: bold;\n",
       "font-family: monospace;\n",
       "display: block;\n",
       "white-space: pre-wrap;\n",
       "}\n",
       ".show-type {\n",
       "color: green;\n",
       "font-weight: bold;\n",
       "font-family: monospace;\n",
       "margin-left: 1em;\n",
       "}\n",
       ".mono {\n",
       "font-family: monospace;\n",
       "display: block;\n",
       "}\n",
       ".err-msg {\n",
       "color: red;\n",
       "font-style: italic;\n",
       "font-family: monospace;\n",
       "white-space: pre;\n",
       "display: block;\n",
       "}\n",
       "#unshowable {\n",
       "color: red;\n",
       "font-weight: bold;\n",
       "}\n",
       ".err-msg.in.collapse {\n",
       "padding-top: 0.7em;\n",
       "}\n",
       ".highlight-code {\n",
       "white-space: pre;\n",
       "font-family: monospace;\n",
       "}\n",
       ".suggestion-warning { \n",
       "font-weight: bold;\n",
       "color: rgb(200, 130, 0);\n",
       "}\n",
       ".suggestion-error { \n",
       "font-weight: bold;\n",
       "color: red;\n",
       "}\n",
       ".suggestion-name {\n",
       "font-weight: bold;\n",
       "}\n",
       "</style><div class=\"suggestion-name\" style=\"clear:both;\">Redundant lambda</div><div class=\"suggestion-row\" style=\"float: left;\"><div class=\"suggestion-warning\">Found:</div><div class=\"highlight-code\" id=\"haskell\">mult x y = \\ z -> x * y * z</div></div><div class=\"suggestion-row\" style=\"float: left;\"><div class=\"suggestion-warning\">Why Not:</div><div class=\"highlight-code\" id=\"haskell\">mult x y z = x * y * z</div></div>"
      ],
      "text/plain": [
       "Line 1: Redundant lambda\n",
       "Found:\n",
       "mult x y = \\ z -> x * y * z\n",
       "Why not:\n",
       "mult x y z = x * y * z"
      ]
     },
     "metadata": {},
     "output_type": "display_data"
    },
    {
     "data": {
      "text/plain": [
       "8"
      ]
     },
     "metadata": {},
     "output_type": "display_data"
    }
   ],
   "source": [
    "mult x y  = \\z -> x * y * z\n",
    "\n",
    "mult 2 2 2"
   ]
  },
  {
   "cell_type": "markdown",
   "metadata": {},
   "source": [
    "The *Luhn algorithm* is used to check bank card numbers for simple errors such as mistyping a digit, and proceeds as follows:\n",
    "\n",
    "* consider each digit as a separate number;\n",
    "* moving left, double every other number from the second last;\n",
    "* subtract 9 from each number that is now greater than 9;\n",
    "* add all the resulting numbers together;\n",
    "* if the total is divisible by 10, the card number is valid.\n",
    "\n",
    "Define a function ```luhnDouble :: Int -> Int``` that doubles a digit and subtracts 9 if the result is greater than 9. For example:\n",
    "\n",
    "```\n",
    "> luhnDouble 3\n",
    "6\n",
    "\n",
    "> luhnDouble 6\n",
    "3\n",
    "```\n",
    "Using luhnDouble and the integer remainder function mod, define a function ```luhn :: Int -> Int -> Int -> Int -> Bool``` that decides if a four digit bank card number is valid. For example:\n",
    "\n",
    "```\n",
    "> luhn 1 7 8 4\n",
    "True\n",
    "\n",
    "> luhn 4 7 8 3\n",
    "False\n",
    "```\n"
   ]
  },
  {
   "cell_type": "code",
   "execution_count": 11,
   "metadata": {},
   "outputs": [
    {
     "data": {
      "text/plain": [
       "6"
      ]
     },
     "metadata": {},
     "output_type": "display_data"
    },
    {
     "data": {
      "text/plain": [
       "3"
      ]
     },
     "metadata": {},
     "output_type": "display_data"
    }
   ],
   "source": [
    "luhnDouble n = if d > 9 then d - 9 else d\n",
    "    where d = n * 2\n",
    "    \n",
    "luhnDouble 3\n",
    "luhnDouble 6 "
   ]
  },
  {
   "cell_type": "code",
   "execution_count": 15,
   "metadata": {},
   "outputs": [
    {
     "data": {
      "text/plain": [
       "True"
      ]
     },
     "metadata": {},
     "output_type": "display_data"
    },
    {
     "data": {
      "text/plain": [
       "False"
      ]
     },
     "metadata": {},
     "output_type": "display_data"
    }
   ],
   "source": [
    "-- luhn a b c d = if (luhnDouble a + b + luhnDouble c + d) `mod` 10 == 0 then True else False\n",
    "\n",
    "-- luhn 1 7 8 4\n",
    "-- luhn 4 7 8 3\n",
    "\n",
    "luhn' a b c d | (luhnDouble a + b + luhnDouble c + d) `mod` 10 == 0 = True\n",
    "              | otherwise = False\n",
    "\n",
    "luhn' 1 7 8 4\n",
    "luhn' 4 7 8 3\n"
   ]
  },
  {
   "cell_type": "markdown",
   "metadata": {},
   "source": [
    "Luhn check an arbritrary length of digits"
   ]
  },
  {
   "cell_type": "code",
   "execution_count": 64,
   "metadata": {},
   "outputs": [
    {
     "data": {
      "text/plain": [
       "True"
      ]
     },
     "metadata": {},
     "output_type": "display_data"
    }
   ],
   "source": [
    "toIntList 0 = []\n",
    "toIntList n = n `mod` 10 : toIntList (n `div` 10)\n",
    "\n",
    "luhn'' []       = []\n",
    "luhn'' (x:y:xs) = x : luhnDouble y : luhn'' xs\n",
    "luhn'' (x:xs)   = x : xs\n",
    "\n",
    "luhn n = let l = luhn'' (toIntList n)\n",
    "         in sum l `mod` 10 == 0\n",
    "\n",
    "--luhn'' [1,7,8,4,2]\n",
    "luhn 4111111111111111"
   ]
  },
  {
   "cell_type": "code",
   "execution_count": null,
   "metadata": {},
   "outputs": [],
   "source": []
  }
 ],
 "metadata": {
  "kernelspec": {
   "display_name": "Haskell",
   "language": "haskell",
   "name": "haskell"
  },
  "language_info": {
   "codemirror_mode": "ihaskell",
   "file_extension": ".hs",
   "name": "haskell",
   "pygments_lexer": "Haskell",
   "version": "8.6.4"
  }
 },
 "nbformat": 4,
 "nbformat_minor": 2
}
