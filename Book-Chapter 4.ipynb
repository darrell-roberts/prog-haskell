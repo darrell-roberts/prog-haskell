{
 "cells": [
  {
   "cell_type": "markdown",
   "metadata": {},
   "source": [
    "Using library functions, define a function ```halve : :[a] -> ([a], [a])``` that splits an even-lengthed list into two halves. For example:\n",
    "\n",
    "```\n",
    "halve [1,2,3,4,5,6]\n",
    "([1,2,3], [4,5,6])\n",
    "```"
   ]
  },
  {
   "cell_type": "code",
   "execution_count": 17,
   "metadata": {},
   "outputs": [
    {
     "data": {
      "text/plain": [
       "([1,2,3],[4,5,6])"
      ]
     },
     "metadata": {},
     "output_type": "display_data"
    }
   ],
   "source": [
    "halve xs = (take s xs, drop s xs)\n",
    "  where s = length xs `div` 2\n",
    "\n",
    "halve [1,2,3,4,5,6]"
   ]
  },
  {
   "cell_type": "markdown",
   "metadata": {},
   "source": [
    "Defined a function ```third :: [a] -> a``` that returns the third element in a list that contains at least this many elements using:\n",
    "\n",
    "a. head and tail;\n",
    "\n",
    "b. list indexing !!;\n",
    "\n",
    "c. pattern matching."
   ]
  },
  {
   "cell_type": "code",
   "execution_count": 35,
   "metadata": {},
   "outputs": [
    {
     "data": {
      "text/plain": [
       "3"
      ]
     },
     "metadata": {},
     "output_type": "display_data"
    },
    {
     "data": {
      "text/plain": [
       "3"
      ]
     },
     "metadata": {},
     "output_type": "display_data"
    },
    {
     "data": {
      "text/plain": [
       "3"
      ]
     },
     "metadata": {},
     "output_type": "display_data"
    }
   ],
   "source": [
    "-- a. Head and tail\n",
    "third = head . tail . tail\n",
    "\n",
    "-- b. List indexing !! with gaurd\n",
    "third' xs | length xs < 3 = 0\n",
    "          | otherwise = xs !! 2\n",
    "\n",
    "-- c. Pattern matching\n",
    "third'' (_:_:xs) = head xs\n",
    "\n",
    "x = [1,2,3,4,5,6]\n",
    "\n",
    "third x\n",
    "third' x\n",
    "third'' x\n"
   ]
  },
  {
   "cell_type": "code",
   "execution_count": null,
   "metadata": {},
   "outputs": [],
   "source": []
  }
 ],
 "metadata": {
  "kernelspec": {
   "display_name": "Haskell",
   "language": "haskell",
   "name": "haskell"
  },
  "language_info": {
   "codemirror_mode": "ihaskell",
   "file_extension": ".hs",
   "name": "haskell",
   "pygments_lexer": "Haskell",
   "version": "8.6.4"
  }
 },
 "nbformat": 4,
 "nbformat_minor": 2
}
