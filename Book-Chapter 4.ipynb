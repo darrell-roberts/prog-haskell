{
 "cells": [
  {
   "cell_type": "markdown",
   "metadata": {},
   "source": [
    "Using library functions, define a function ```halve : :[a] -> ([a], [a])``` that splits an even-lengthed list into two halves. For example:\n",
    "\n",
    "```\n",
    "halve [1,2,3,4,5,6]\n",
    "([1,2,3], [4,5,6])\n",
    "```"
   ]
  },
  {
   "cell_type": "code",
   "execution_count": 17,
   "metadata": {},
   "outputs": [
    {
     "data": {
      "text/plain": [
       "([1,2,3],[4,5,6])"
      ]
     },
     "metadata": {},
     "output_type": "display_data"
    }
   ],
   "source": [
    "halve xs = (take s xs, drop s xs)\n",
    "  where s = length xs `div` 2\n",
    "\n",
    "halve [1,2,3,4,5,6]"
   ]
  },
  {
   "cell_type": "markdown",
   "metadata": {},
   "source": [
    "Defined a function ```third :: [a] -> a``` that returns the third element in a list that contains at least this many elements using:\n",
    "\n",
    "a. head and tail;\n",
    "\n",
    "b. list indexing !!;\n",
    "\n",
    "c. pattern matching."
   ]
  },
  {
   "cell_type": "code",
   "execution_count": 35,
   "metadata": {},
   "outputs": [
    {
     "data": {
      "text/plain": [
       "3"
      ]
     },
     "metadata": {},
     "output_type": "display_data"
    },
    {
     "data": {
      "text/plain": [
       "3"
      ]
     },
     "metadata": {},
     "output_type": "display_data"
    },
    {
     "data": {
      "text/plain": [
       "3"
      ]
     },
     "metadata": {},
     "output_type": "display_data"
    }
   ],
   "source": [
    "-- a. Head and tail\n",
    "third = head . tail . tail\n",
    "\n",
    "-- b. List indexing !! with gaurd\n",
    "third' xs | length xs < 3 = 0\n",
    "          | otherwise = xs !! 2\n",
    "\n",
    "-- c. Pattern matching\n",
    "third'' (_:_:xs) = head xs\n",
    "\n",
    "x = [1,2,3,4,5,6]\n",
    "\n",
    "third x\n",
    "third' x\n",
    "third'' x\n"
   ]
  },
  {
   "cell_type": "markdown",
   "metadata": {},
   "source": [
    "In a similar way to && in section 4.4 show how the disjunction operator || can be defined in four different ways using pattern matching."
   ]
  },
  {
   "cell_type": "code",
   "execution_count": 71,
   "metadata": {},
   "outputs": [
    {
     "ename": "",
     "evalue": "",
     "output_type": "error",
     "traceback": [
      "Parse error (line 2, column 16): parse error on input ‘=’\nPerhaps you need a 'let' in a 'do' block?\ne.g. 'let x = 5' instead of 'x = 5'"
     ]
    },
    {
     "ename": "",
     "evalue": "",
     "output_type": "error",
     "traceback": [
      "Parse error (line 3, column 17): parse error on input ‘=’\nPerhaps you need a 'let' in a 'do' block?\ne.g. 'let x = 5' instead of 'x = 5'"
     ]
    },
    {
     "ename": "",
     "evalue": "",
     "output_type": "error",
     "traceback": [
      "Parse error (line 4, column 17): parse error on input ‘=’\nPerhaps you need a 'let' in a 'do' block?\ne.g. 'let x = 5' instead of 'x = 5'"
     ]
    },
    {
     "ename": "",
     "evalue": "",
     "output_type": "error",
     "traceback": [
      "Parse error (line 5, column 18): parse error on input ‘=’\nPerhaps you need a 'let' in a 'do' block?\ne.g. 'let x = 5' instead of 'x = 5'"
     ]
    }
   ],
   "source": [
    "-- 1\n",
    "True || True = True\n",
    "False || True = True\n",
    "True || False = True\n",
    "False || False = False\n",
    "\n",
    "-- 2\n",
    "f' a b\n",
    "  | False || False = False\n",
    "  | _ || _ = True\n",
    "\n",
    "-- 3\n",
    "f'' a b\n",
    "  | False || b = False\n",
    "  | True || _ = True\n",
    "\n",
    "-- 4\n",
    "f''' a b\n",
    "    | a == b = a\n",
    "    | otherswise = True\n",
    "    \n",
    "f True False\n",
    "f False True\n",
    "f False False\n",
    "f True True\n",
    "\n"
   ]
  },
  {
   "cell_type": "markdown",
   "metadata": {},
   "source": [
    "Without using any other library functions or opertators, show how the meaning of the following pattern matching definition for logical conjuntion && can be formalised using conditional expressions:\n",
    "\n",
    "```\n",
    "True && True = True\n",
    "_ && _ = False\n",
    "```\n",
    "\n",
    "Hint: use two nested conditional expression"
   ]
  },
  {
   "cell_type": "code",
   "execution_count": 68,
   "metadata": {},
   "outputs": [
    {
     "data": {
      "text/html": [
       "<style>/* Styles used for the Hoogle display in the pager */\n",
       ".hoogle-doc {\n",
       "display: block;\n",
       "padding-bottom: 1.3em;\n",
       "padding-left: 0.4em;\n",
       "}\n",
       ".hoogle-code {\n",
       "display: block;\n",
       "font-family: monospace;\n",
       "white-space: pre;\n",
       "}\n",
       ".hoogle-text {\n",
       "display: block;\n",
       "}\n",
       ".hoogle-name {\n",
       "color: green;\n",
       "font-weight: bold;\n",
       "}\n",
       ".hoogle-head {\n",
       "font-weight: bold;\n",
       "}\n",
       ".hoogle-sub {\n",
       "display: block;\n",
       "margin-left: 0.4em;\n",
       "}\n",
       ".hoogle-package {\n",
       "font-weight: bold;\n",
       "font-style: italic;\n",
       "}\n",
       ".hoogle-module {\n",
       "font-weight: bold;\n",
       "}\n",
       ".hoogle-class {\n",
       "font-weight: bold;\n",
       "}\n",
       ".get-type {\n",
       "color: green;\n",
       "font-weight: bold;\n",
       "font-family: monospace;\n",
       "display: block;\n",
       "white-space: pre-wrap;\n",
       "}\n",
       ".show-type {\n",
       "color: green;\n",
       "font-weight: bold;\n",
       "font-family: monospace;\n",
       "margin-left: 1em;\n",
       "}\n",
       ".mono {\n",
       "font-family: monospace;\n",
       "display: block;\n",
       "}\n",
       ".err-msg {\n",
       "color: red;\n",
       "font-style: italic;\n",
       "font-family: monospace;\n",
       "white-space: pre;\n",
       "display: block;\n",
       "}\n",
       "#unshowable {\n",
       "color: red;\n",
       "font-weight: bold;\n",
       "}\n",
       ".err-msg.in.collapse {\n",
       "padding-top: 0.7em;\n",
       "}\n",
       ".highlight-code {\n",
       "white-space: pre;\n",
       "font-family: monospace;\n",
       "}\n",
       ".suggestion-warning { \n",
       "font-weight: bold;\n",
       "color: rgb(200, 130, 0);\n",
       "}\n",
       ".suggestion-error { \n",
       "font-weight: bold;\n",
       "color: red;\n",
       "}\n",
       ".suggestion-name {\n",
       "font-weight: bold;\n",
       "}\n",
       "</style><div class=\"suggestion-name\" style=\"clear:both;\">Redundant if</div><div class=\"suggestion-row\" style=\"float: left;\"><div class=\"suggestion-warning\">Found:</div><div class=\"highlight-code\" id=\"haskell\">if a == True && b == True then True else False</div></div><div class=\"suggestion-row\" style=\"float: left;\"><div class=\"suggestion-warning\">Why Not:</div><div class=\"highlight-code\" id=\"haskell\">a == True && b == True</div></div><div class=\"suggestion-name\" style=\"clear:both;\">Redundant ==</div><div class=\"suggestion-row\" style=\"float: left;\"><div class=\"suggestion-warning\">Found:</div><div class=\"highlight-code\" id=\"haskell\">a == True</div></div><div class=\"suggestion-row\" style=\"float: left;\"><div class=\"suggestion-warning\">Why Not:</div><div class=\"highlight-code\" id=\"haskell\">a</div></div><div class=\"suggestion-name\" style=\"clear:both;\">Redundant ==</div><div class=\"suggestion-row\" style=\"float: left;\"><div class=\"suggestion-warning\">Found:</div><div class=\"highlight-code\" id=\"haskell\">b == True</div></div><div class=\"suggestion-row\" style=\"float: left;\"><div class=\"suggestion-warning\">Why Not:</div><div class=\"highlight-code\" id=\"haskell\">b</div></div>"
      ],
      "text/plain": [
       "Line 1: Redundant if\n",
       "Found:\n",
       "if a == True && b == True then True else False\n",
       "Why not:\n",
       "a == True && b == TrueLine 1: Redundant ==\n",
       "Found:\n",
       "a == True\n",
       "Why not:\n",
       "aLine 1: Redundant ==\n",
       "Found:\n",
       "b == True\n",
       "Why not:\n",
       "b"
      ]
     },
     "metadata": {},
     "output_type": "display_data"
    },
    {
     "data": {
      "text/plain": [
       "True"
      ]
     },
     "metadata": {},
     "output_type": "display_data"
    },
    {
     "data": {
      "text/plain": [
       "False"
      ]
     },
     "metadata": {},
     "output_type": "display_data"
    }
   ],
   "source": [
    "f a b = if a == True && b == True then True else False\n",
    "\n",
    "f True True\n",
    "f False True"
   ]
  },
  {
   "cell_type": "code",
   "execution_count": null,
   "metadata": {},
   "outputs": [],
   "source": []
  }
 ],
 "metadata": {
  "kernelspec": {
   "display_name": "Haskell",
   "language": "haskell",
   "name": "haskell"
  },
  "language_info": {
   "codemirror_mode": "ihaskell",
   "file_extension": ".hs",
   "name": "haskell",
   "pygments_lexer": "Haskell",
   "version": "8.6.4"
  }
 },
 "nbformat": 4,
 "nbformat_minor": 2
}
