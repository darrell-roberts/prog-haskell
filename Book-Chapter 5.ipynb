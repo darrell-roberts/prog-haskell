{
 "cells": [
  {
   "cell_type": "markdown",
   "metadata": {},
   "source": [
    "Using a list comprehension, give an expression that calculates the sum $(1^2 + 2^2 + ...100^2)$ of the first one hundred integer squares."
   ]
  },
  {
   "cell_type": "code",
   "execution_count": 6,
   "metadata": {},
   "outputs": [
    {
     "data": {
      "text/plain": [
       "[1,4,9,16,25,36,49,64,81,100,121,144,169,196,225,256,289,324,361,400,441,484,529,576,625,676,729,784,841,900,961,1024,1089,1156,1225,1296,1369,1444,1521,1600,1681,1764,1849,1936,2025,2116,2209,2304,2401,2500,2601,2704,2809,2916,3025,3136,3249,3364,3481,3600,3721,3844,3969,4096,4225,4356,4489,4624,4761,4900,5041,5184,5329,5476,5625,5776,5929,6084,6241,6400,6561,6724,6889,7056,7225,7396,7569,7744,7921,8100,8281,8464,8649,8836,9025,9216,9409,9604,9801,10000]"
      ]
     },
     "metadata": {},
     "output_type": "display_data"
    }
   ],
   "source": [
    "[x ^ 2 | x <- [1..100]]"
   ]
  },
  {
   "cell_type": "markdown",
   "metadata": {},
   "source": [
    "Suppose that a *coordinate grid* of size ```m x n``` is given by the list of all pairs ```(x,y)``` of integers such that $0 \\leq x \\leq m$ and $0 \\leq y \\leq n$. Using a list comprehension, define a function ```grid :: Int -> Int -> [(Int, Int)]``` that returns a coordinate grid of a given size. For example:\n",
    "\n",
    "```\n",
    "> grid 1 2\n",
    "[(0,0),(0,1),(0,2),(1,0),(1,1),(1,2)]\n",
    "```"
   ]
  },
  {
   "cell_type": "code",
   "execution_count": 1,
   "metadata": {},
   "outputs": [
    {
     "data": {
      "text/plain": [
       "[(0,0),(0,1),(0,2),(1,0),(1,1),(1,2)]"
      ]
     },
     "metadata": {},
     "output_type": "display_data"
    }
   ],
   "source": [
    "grid x y = [(x, y) | x <- [0..x], y <- [0..y]]\n",
    "\n",
    "grid 1 2"
   ]
  },
  {
   "cell_type": "markdown",
   "metadata": {},
   "source": [
    "Using a list comprehension and the function ```grid``` above, define a function ```square :: Int -> [(Int,Int)]``` that returns a coordinate square of size *n*, exluding the diagonal from $(0,0)$ to $(n,n)$. For example:\n",
    "\n",
    "```\n",
    "> square 2\n",
    "[(0,1),(0,2),(1,0),(1,2),(2,0),(2,1)]\n",
    "```"
   ]
  },
  {
   "cell_type": "code",
   "execution_count": 16,
   "metadata": {},
   "outputs": [
    {
     "data": {
      "text/plain": [
       "[(0,1),(0,2),(1,0),(1,2),(2,0),(2,1)]"
      ]
     },
     "metadata": {},
     "output_type": "display_data"
    }
   ],
   "source": [
    "square n = [(x, y) | (x, y) <- grid n n, x /= y]\n",
    "\n",
    "square 2"
   ]
  },
  {
   "cell_type": "markdown",
   "metadata": {},
   "source": [
    "In a similar way to the function ```length```, show how the library function ```replicate :: Int -> a -> [a]``` that produces a list of identical elements can be defined using a list comprehension. For example:\n",
    "\n",
    "```\n",
    "> replicate 3 True\n",
    "[True,True,True]\n",
    "```"
   ]
  },
  {
   "cell_type": "code",
   "execution_count": 22,
   "metadata": {},
   "outputs": [
    {
     "data": {
      "text/plain": [
       "[True,True,True]"
      ]
     },
     "metadata": {},
     "output_type": "display_data"
    }
   ],
   "source": [
    "replicate' n x = [x | _ <- [1..n]]\n",
    "\n",
    "replicate' 3 True"
   ]
  },
  {
   "cell_type": "code",
   "execution_count": null,
   "metadata": {},
   "outputs": [],
   "source": []
  }
 ],
 "metadata": {
  "kernelspec": {
   "display_name": "Haskell",
   "language": "haskell",
   "name": "haskell"
  },
  "language_info": {
   "codemirror_mode": "ihaskell",
   "file_extension": ".hs",
   "name": "haskell",
   "pygments_lexer": "Haskell",
   "version": "8.6.4"
  }
 },
 "nbformat": 4,
 "nbformat_minor": 2
}
