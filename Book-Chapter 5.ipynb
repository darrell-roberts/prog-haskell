{
 "cells": [
  {
   "cell_type": "markdown",
   "metadata": {},
   "source": [
    "Using a list comprehension, give an expression that calculates the sum $(1^2 + 2^2 + ...100^2)$ of the first one hundred integer squares."
   ]
  },
  {
   "cell_type": "code",
   "execution_count": 6,
   "metadata": {},
   "outputs": [
    {
     "data": {
      "text/plain": [
       "[1,4,9,16,25,36,49,64,81,100,121,144,169,196,225,256,289,324,361,400,441,484,529,576,625,676,729,784,841,900,961,1024,1089,1156,1225,1296,1369,1444,1521,1600,1681,1764,1849,1936,2025,2116,2209,2304,2401,2500,2601,2704,2809,2916,3025,3136,3249,3364,3481,3600,3721,3844,3969,4096,4225,4356,4489,4624,4761,4900,5041,5184,5329,5476,5625,5776,5929,6084,6241,6400,6561,6724,6889,7056,7225,7396,7569,7744,7921,8100,8281,8464,8649,8836,9025,9216,9409,9604,9801,10000]"
      ]
     },
     "metadata": {},
     "output_type": "display_data"
    }
   ],
   "source": [
    "[x ^ 2 | x <- [1..100]]"
   ]
  },
  {
   "cell_type": "markdown",
   "metadata": {},
   "source": [
    "Suppose that a *coordinate grid* of size ```m x n``` is given by the list of all pairs ```(x,y)``` of integers such that $0 \\leq x \\leq m$ and $0 \\leq y \\leq n$. Using a list comprehension, define a function ```grid :: Int -> Int -> [(Int, Int)]``` that returns a coordinate grid of a given size. For example:\n",
    "\n",
    "```\n",
    "> grid 1 2\n",
    "[(0,0),(0,1),(0,2),(1,0),(1,1),(1,2)]\n",
    "```"
   ]
  },
  {
   "cell_type": "code",
   "execution_count": 1,
   "metadata": {},
   "outputs": [
    {
     "data": {
      "text/plain": [
       "[(0,0),(0,1),(0,2),(1,0),(1,1),(1,2)]"
      ]
     },
     "metadata": {},
     "output_type": "display_data"
    }
   ],
   "source": [
    "grid x y = [(x, y) | x <- [0..x], y <- [0..y]]\n",
    "\n",
    "grid 1 2"
   ]
  },
  {
   "cell_type": "markdown",
   "metadata": {},
   "source": [
    "Using a list comprehension and the function ```grid``` above, define a function ```square :: Int -> [(Int,Int)]``` that returns a coordinate square of size *n*, exluding the diagonal from $(0,0)$ to $(n,n)$. For example:\n",
    "\n",
    "```\n",
    "> square 2\n",
    "[(0,1),(0,2),(1,0),(1,2),(2,0),(2,1)]\n",
    "```"
   ]
  },
  {
   "cell_type": "code",
   "execution_count": 16,
   "metadata": {},
   "outputs": [
    {
     "data": {
      "text/plain": [
       "[(0,1),(0,2),(1,0),(1,2),(2,0),(2,1)]"
      ]
     },
     "metadata": {},
     "output_type": "display_data"
    }
   ],
   "source": [
    "square n = [(x, y) | (x, y) <- grid n n, x /= y]\n",
    "\n",
    "square 2"
   ]
  },
  {
   "cell_type": "markdown",
   "metadata": {},
   "source": [
    "In a similar way to the function ```length```, show how the library function ```replicate :: Int -> a -> [a]``` that produces a list of identical elements can be defined using a list comprehension. For example:\n",
    "\n",
    "```\n",
    "> replicate 3 True\n",
    "[True,True,True]\n",
    "```"
   ]
  },
  {
   "cell_type": "code",
   "execution_count": 22,
   "metadata": {},
   "outputs": [
    {
     "data": {
      "text/plain": [
       "[True,True,True]"
      ]
     },
     "metadata": {},
     "output_type": "display_data"
    }
   ],
   "source": [
    "replicate' n x = [x | _ <- [1..n]]\n",
    "\n",
    "replicate' 3 True"
   ]
  },
  {
   "cell_type": "markdown",
   "metadata": {},
   "source": [
    "A triple $(x,y,z)$ of positive integers in *Pythagorean* if it satisfies the equation $x^2 + y^2 = z^2$. Using a list comprehension with three generators, define a function ```pyths :: Int -> [(Int,Int,Int)]``` that returns the list of all such triples whose components are at most a given limit. For example:\n",
    "\n",
    "```\n",
    "> pyths 10\n",
    "[(3,4,5),(4,3,5),(6,8,10),(8,6,10)]\n",
    "```"
   ]
  },
  {
   "cell_type": "code",
   "execution_count": 50,
   "metadata": {
    "scrolled": true
   },
   "outputs": [
    {
     "data": {
      "text/plain": [
       "[(3,4,5),(4,3,5),(6,8,10),(8,6,10)]"
      ]
     },
     "metadata": {},
     "output_type": "display_data"
    }
   ],
   "source": [
    "pyths n = [(x,y,z) | x <- [1..n], \n",
    "                     y <- [1..n], \n",
    "                     z <- [1..n], \n",
    "                     x^2 + y^2 == z^2]\n",
    "\n",
    "pyths 10"
   ]
  },
  {
   "cell_type": "markdown",
   "metadata": {},
   "source": [
    "A positive integer is *perfect* if it equals the sum of all its factors, excluding the number itself. Using a list comprehension and the function **factors**, define a function ```perfects :: Int -> [Int]``` that returns the list of all perfect numbers up to a given limit. For example:\n",
    "\n",
    "```\n",
    "> perfects 500\n",
    "[6,28,496]\n",
    "```"
   ]
  },
  {
   "cell_type": "code",
   "execution_count": 34,
   "metadata": {},
   "outputs": [
    {
     "data": {
      "text/plain": [
       "[1,2,3,6]"
      ]
     },
     "metadata": {},
     "output_type": "display_data"
    },
    {
     "data": {
      "text/plain": [
       "[6,28,496]"
      ]
     },
     "metadata": {},
     "output_type": "display_data"
    }
   ],
   "source": [
    "factors n = [x | x <- [1..n], n `mod` x == 0]\n",
    "\n",
    "factors 6\n",
    "\n",
    "perfects n = [x | x <- [1..n], sum (init(factors x)) == x]\n",
    "\n",
    "perfects 500"
   ]
  },
  {
   "cell_type": "markdown",
   "metadata": {},
   "source": [
    "Show how the list comprehension ```[(x,y) | x <- [1,2], y <- [3,4]]``` with two generators can be re-expressed using two comprehensions with single gerators. Hint: nest one comprehension within the other and make use of the library function ```concat :: [[a]] -> [a]```."
   ]
  },
  {
   "cell_type": "code",
   "execution_count": 35,
   "metadata": {},
   "outputs": [
    {
     "data": {
      "text/plain": [
       "[(1,3),(1,4),(2,3),(2,4)]"
      ]
     },
     "metadata": {},
     "output_type": "display_data"
    }
   ],
   "source": [
    "[(x,y) | x <- [1,2], y <- [3,4]]"
   ]
  },
  {
   "cell_type": "code",
   "execution_count": 53,
   "metadata": {},
   "outputs": [],
   "source": [
    "--concat [[x | x <- [1,2]], [y | y <- [3,4]]]\n"
   ]
  },
  {
   "cell_type": "markdown",
   "metadata": {},
   "source": [
    "Redefine the function ```postions``` using the function ```find```."
   ]
  },
  {
   "cell_type": "code",
   "execution_count": 59,
   "metadata": {},
   "outputs": [
    {
     "data": {
      "text/plain": [
       "[2,4]"
      ]
     },
     "metadata": {},
     "output_type": "display_data"
    },
    {
     "data": {
      "text/plain": [
       "[1,3]"
      ]
     },
     "metadata": {},
     "output_type": "display_data"
    },
    {
     "data": {
      "text/plain": [
       "[1,3]"
      ]
     },
     "metadata": {},
     "output_type": "display_data"
    }
   ],
   "source": [
    "find k t = [v | (k', v) <- t, k == k']\n",
    "\n",
    "find 'b' [('a',1),('b',2),('c',3),('b',4)]\n",
    "\n",
    "positions x xs = [i | (x', i) <- zip xs [0..], x == x']\n",
    "\n",
    "positions False [True, False, True, False]\n",
    "\n",
    "positions' x xs = find x (zip xs [0..])\n",
    "\n",
    "positions' False [True, False, True, False]"
   ]
  },
  {
   "cell_type": "markdown",
   "metadata": {},
   "source": [
    "The *scalar product* of two lists of integers *xs* and *ys* of length *n* is given by the sum of the products of corresponding integers:\n",
    "\n",
    "$\\sum_{i=0}^{n-1}(xs_{i} * ys_{i})$\n",
    "\n",
    "In a similar manner to ```chisqr```, show how a list comprehension can be used to define a function ```scalarproduct :: [Int] -> [Int] -> Int``` that returns the scalar product of two lists. For example:\n",
    "\n",
    "```\n",
    "> scalarproduct [1,2,3] [4,5,6]\n",
    "32\n",
    "```"
   ]
  },
  {
   "cell_type": "code",
   "execution_count": null,
   "metadata": {},
   "outputs": [],
   "source": []
  }
 ],
 "metadata": {
  "kernelspec": {
   "display_name": "Haskell",
   "language": "haskell",
   "name": "haskell"
  },
  "language_info": {
   "codemirror_mode": "ihaskell",
   "file_extension": ".hs",
   "name": "haskell",
   "pygments_lexer": "Haskell",
   "version": "8.6.4"
  }
 },
 "nbformat": 4,
 "nbformat_minor": 2
}
