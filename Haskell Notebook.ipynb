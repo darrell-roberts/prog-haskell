{
 "cells": [
  {
   "cell_type": "markdown",
   "metadata": {},
   "source": [
    "Simple List comprehension with predicate"
   ]
  },
  {
   "cell_type": "code",
   "execution_count": 1,
   "metadata": {},
   "outputs": [
    {
     "data": {
      "text/plain": [
       "[1,3,5,7,9]"
      ]
     },
     "metadata": {},
     "output_type": "display_data"
    }
   ],
   "source": [
    "someOdds = [x | x <- [1..10], odd x]\n",
    "\n",
    "someOdds\n"
   ]
  },
  {
   "cell_type": "markdown",
   "metadata": {},
   "source": [
    "Convert a binary number to an integer"
   ]
  },
  {
   "cell_type": "code",
   "execution_count": 2,
   "metadata": {},
   "outputs": [
    {
     "data": {
      "text/plain": [
       "13"
      ]
     },
     "metadata": {},
     "output_type": "display_data"
    }
   ],
   "source": [
    "--to_digit_list :: (Integral a) => a -> [a]\n",
    "to_digit_list 0 = []\n",
    "to_digit_list n = x : to_digit_list y\n",
    "  where x = n `mod` 10\n",
    "        y = n `div` 10\n",
    "\n",
    "to_digits = reverse . to_digit_list\n",
    "\n",
    "get_mult 0 = 1\n",
    "get_mult n = 2 ^ n\n",
    "\n",
    "calculate_binary [] = 0\n",
    "calculate_binary (x:xs) = (x * y) + calculate_binary xs\n",
    "  where y = get_mult . length $ xs\n",
    "\n",
    "to_binary = calculate_binary . to_digits\n",
    "\n",
    "to_binary 1101"
   ]
  },
  {
   "cell_type": "code",
   "execution_count": 2,
   "metadata": {},
   "outputs": [
    {
     "data": {
      "text/plain": [
       "[(1,1),(1,2),(1,3),(2,1),(2,2),(2,3),(3,1),(3,2),(3,3)]"
      ]
     },
     "metadata": {},
     "output_type": "display_data"
    }
   ],
   "source": [
    "listComp n = [(y, x) | y <- n, x <- n]\n",
    "\n",
    "listComp [1,2,3]"
   ]
  },
  {
   "cell_type": "code",
   "execution_count": null,
   "metadata": {},
   "outputs": [],
   "source": []
  }
 ],
 "metadata": {
  "kernelspec": {
   "display_name": "Haskell",
   "language": "haskell",
   "name": "haskell"
  },
  "language_info": {
   "codemirror_mode": "ihaskell",
   "file_extension": ".hs",
   "name": "haskell",
   "pygments_lexer": "Haskell",
   "version": "8.6.4"
  }
 },
 "nbformat": 4,
 "nbformat_minor": 2
}
